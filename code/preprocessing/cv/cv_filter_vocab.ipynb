{
 "cells": [
  {
   "cell_type": "code",
   "execution_count": 1,
   "id": "7c455075",
   "metadata": {},
   "outputs": [],
   "source": [
    "import glob\n",
    "from iso639 import Lang\n",
    "import csv\n",
    "\n",
    "txtFilters=glob.glob(\"./../../../data/filtered/alphabets/cv/*.csv\")\n",
    "csvsToAnalyze=glob.glob(\"./../../../data/non_filtered/corpora/cv/*.csv\")\n",
    "\n",
    "filterLang={}\n",
    "for txt in txtFilters:\n",
    "    with open(txt, newline='',encoding=\"utf-8\") as txtOpened:\n",
    "        pt3Name=txt.split(\"-\")[0].split(\"\\\\\")[1]\n",
    "        lines = txtOpened.readlines()\n",
    "        newFilter=set()\n",
    "        for line in lines[1:]:\n",
    "            elems=line.split(\",\")\n",
    "            newFilter.add(elems[0].strip(\"\\\"\"))\n",
    "        filterLang[pt3Name]=newFilter\n",
    "\n",
    "for csvfile in csvsToAnalyze:\n",
    "    if \"jpn\" not in csvfile and \"zho\" not in csvfile: \n",
    "        names=csvfile.split(\"\\\\\")[1].split(\"-\")\n",
    "        isoLanIdentifier=names[0]\n",
    "        isoLan=Lang(isoLanIdentifier).pt1\n",
    "        with open(\"./../../../data/filtered/corpora/cv/\"+isoLanIdentifier+\"-word.csv\", 'w', encoding='UTF8', newline='') as f:\n",
    "            writer = csv.writer(f)\n",
    "            writer.writerow([\" \",\"frequency\", \"word\",\"meanDuration\",\"medianDuration\",\"stDevDuration\",\"n_characters\"])\n",
    "            with open(csvfile, newline='',encoding=\"utf-8\") as csvfileOpened:\n",
    "                reader = csv.reader(csvfileOpened, delimiter=',', quotechar='\"')\n",
    "                alphabetSet=filterLang[isoLanIdentifier]\n",
    "                for row in reader:\n",
    "                    valid=True\n",
    "                    for letter in row[1]:\n",
    "                        if letter not in alphabetSet:\n",
    "                            valid=False\n",
    "                            break\n",
    "                    if valid:\n",
    "                        writer.writerow(row)\n"
   ]
  },
  {
   "cell_type": "code",
   "execution_count": null,
   "id": "08841a04",
   "metadata": {},
   "outputs": [],
   "source": []
  }
 ],
 "metadata": {
  "kernelspec": {
   "display_name": "Python 3 (ipykernel)",
   "language": "python",
   "name": "python3"
  },
  "language_info": {
   "codemirror_mode": {
    "name": "ipython",
    "version": 3
   },
   "file_extension": ".py",
   "mimetype": "text/x-python",
   "name": "python",
   "nbconvert_exporter": "python",
   "pygments_lexer": "ipython3",
   "version": "3.10.0"
  }
 },
 "nbformat": 4,
 "nbformat_minor": 5
}
