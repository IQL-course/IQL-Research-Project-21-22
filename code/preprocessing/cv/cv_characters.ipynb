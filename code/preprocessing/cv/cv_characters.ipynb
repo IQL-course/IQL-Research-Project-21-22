{
 "cells": [
  {
   "cell_type": "code",
   "execution_count": 11,
   "id": "3773046d",
   "metadata": {},
   "outputs": [],
   "source": [
    "import csv\n",
    "import glob\n",
    "from iso639 import Lang\n",
    "import pycountry\n",
    "from langcodes import *\n",
    "import os\n",
    "import pandas as pd\n",
    "\n",
    "def addToDict(word, reps,dictionary):\n",
    "    if word in dictionary:\n",
    "        dictionary[word]+=reps\n",
    "    else:\n",
    "        dictionary[word]=reps\n",
    "\n",
    "\n",
    "csvsToAnalyze=glob.glob(\"./../../../data/cv/*.csv\")\n",
    "for csvfile in csvsToAnalyze:\n",
    "    if \"phone\" not in csvfile: \n",
    "        with open(csvfile, newline='',encoding=\"utf-8\") as csvfileOpened:\n",
    "            reader = csv.reader(csvfileOpened, delimiter=',', quotechar='\"')\n",
    "            next(reader)\n",
    "            names=csvfile.split(\"/\")[5].split(\"-\")\n",
    "            isoLanIdentifier=names[0].split(\"\\\\\")[1]\n",
    "            isoLan=Lang(isoLanIdentifier).pt1\n",
    "            if (isoLan==\"\"):\n",
    "                isoLan=Lang(isoLanIdentifier).pt3\n",
    "            characterFreq={}\n",
    "            totLetters=0\n",
    "            for row in reader:\n",
    "                for letter in row[1]:\n",
    "                    totLetters+=int(row[0])\n",
    "                    addToDict(letter,int(row[0]),characterFreq)\n",
    "            language=pycountry.languages.get(alpha_3=Lang(isoLan).pt3)\n",
    "            \n",
    "            with open(Lang(isoLan).pt3+\"-character.csv\", 'w', encoding='UTF8', newline='') as f:\n",
    "                writer = csv.writer(f)\n",
    "                writer.writerow([\"character\", \"frequencyTot\", \"frequencyRet\"])\n",
    "                \n",
    "                for w in sorted(characterFreq, key=characterFreq.get, reverse=True):\n",
    "                    writer.writerow([w, characterFreq[w], characterFreq[w]/totLetters])\n"
   ]
  },
  {
   "cell_type": "code",
   "execution_count": null,
   "id": "2b1a30b9",
   "metadata": {},
   "outputs": [],
   "source": []
  }
 ],
 "metadata": {
  "kernelspec": {
   "display_name": "Python 3 (ipykernel)",
   "language": "python",
   "name": "python3"
  },
  "language_info": {
   "codemirror_mode": {
    "name": "ipython",
    "version": 3
   },
   "file_extension": ".py",
   "mimetype": "text/x-python",
   "name": "python",
   "nbconvert_exporter": "python",
   "pygments_lexer": "ipython3",
   "version": "3.10.0"
  }
 },
 "nbformat": 4,
 "nbformat_minor": 5
}
