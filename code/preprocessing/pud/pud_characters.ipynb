{
 "cells": [
  {
   "cell_type": "code",
   "execution_count": 16,
   "id": "de7de518",
   "metadata": {},
   "outputs": [
    {
     "name": "stdout",
     "output_type": "stream",
     "text": [
      "{'d': 3401, 'e': 1971, 'z': 2979, 'à': 3305, 'i': 5149, 'l': 1834, 'y': 2799, 'ī': 1754, 's': 2554, 'h': 5886, 'ì': 2989, 'é': 1742, 'n': 9752, 'á': 1666, 'g': 5736, 'è': 1946, 't': 1202, 'ā': 2201, 'w': 849, 'ú': 629, 'ō': 1014, 'ǒ': 765, 'u': 3755, 'b': 1337, 'r': 877, 'm': 972, 'ě': 778, 'ù': 1364, 'j': 1944, 'ǔ': 529, 'ǎ': 1560, 'c': 1103, 'ó': 701, 'q': 912, 'í': 1388, 'ò': 940, 'ǐ': 1062, 'o': 1247, 'k': 596, 'x': 1455, 'ē': 803, 'ū': 520, 'f': 789, 'p': 324, 'ǜ': 30, 'ǚ': 41, 'a': 5, 'ü': 10, 'ǘ': 2}\n"
     ]
    }
   ],
   "source": [
    "import csv\n",
    "import glob\n",
    "from iso639 import Lang\n",
    "import pycountry\n",
    "from langcodes import *\n",
    "import os\n",
    "import pandas as pd\n",
    "\n",
    "def addToDict(word, reps,dictionary):\n",
    "    if word in dictionary:\n",
    "        dictionary[word]+=reps\n",
    "    else:\n",
    "        dictionary[word]=reps\n",
    "\n",
    "\n",
    "csvsToAnalyze=glob.glob(\"./../../../data/non_filtered/corpora/pud/*.csv\")\n",
    "for csvfile in csvsToAnalyze:\n",
    "    with open(csvfile, newline='',encoding=\"utf-8\") as csvfileOpened:\n",
    "        reader = csv.reader(csvfileOpened, delimiter=',', quotechar='\"')\n",
    "        next(reader)\n",
    "        names=csvfile.split(\"\\\\\")[1].split(\"_\")[0]\n",
    "        isoLan=names\n",
    "        language=pycountry.languages.get(alpha_3=Lang(isoLan).pt3)\n",
    "        isoLanMod=language.name\n",
    "        isoLanIdentifier=names\n",
    "        isoLan=Lang(isoLanIdentifier).pt1\n",
    "        characterFreq={}\n",
    "        totLetters=0\n",
    "        if \"pinyin\" in csvfile:\n",
    "            characterFreq={}\n",
    "            for row in reader:\n",
    "                for letter in row[4]:\n",
    "                    totLetters+=int(row[2])\n",
    "                    addToDict(letter,int(row[2]),characterFreq)\n",
    "        if \"romaji\" in csvfile:\n",
    "            for row in reader:\n",
    "                for letter in row[4]:\n",
    "                    totLetters+=int(row[2])\n",
    "                    addToDict(letter,int(row[2]),characterFreq)\n",
    "        else:\n",
    "            for row in reader:\n",
    "                for letter in row[0]:\n",
    "                    totLetters+=int(row[2])\n",
    "                    addToDict(letter,int(row[2]),characterFreq)\n",
    "        language=pycountry.languages.get(alpha_3=Lang(isoLan).pt3)\n",
    "        toAdd=\"\"\n",
    "        if \"strokes\" in csvfile:\n",
    "            toAdd+=\"-strokes\"\n",
    "        if \"pinyin\" in csvfile:\n",
    "            toAdd+=\"-pinyin\"\n",
    "        if \"romaji\" in csvfile:\n",
    "            toAdd+= \"-romaji\"\n",
    "\n",
    "        with open(\"./../../../data/non_filtered/alphabets/pud/\"+Lang(isoLan).pt3+toAdd+\"-character.csv\", 'w', encoding='UTF8', newline='') as f:\n",
    "            writer = csv.writer(f)\n",
    "            writer.writerow([\"character\", \"frequencyTot\", \"frequencyRet\"])\n",
    "            for w in sorted(characterFreq, key=characterFreq.get, reverse=True):\n",
    "                    writer.writerow([w, characterFreq[w], characterFreq[w]/totLetters])\n"
   ]
  },
  {
   "cell_type": "code",
   "execution_count": null,
   "id": "ea63ba02",
   "metadata": {},
   "outputs": [],
   "source": []
  }
 ],
 "metadata": {
  "kernelspec": {
   "display_name": "Python 3 (ipykernel)",
   "language": "python",
   "name": "python3"
  },
  "language_info": {
   "codemirror_mode": {
    "name": "ipython",
    "version": 3
   },
   "file_extension": ".py",
   "mimetype": "text/x-python",
   "name": "python",
   "nbconvert_exporter": "python",
   "pygments_lexer": "ipython3",
   "version": "3.10.0"
  }
 },
 "nbformat": 4,
 "nbformat_minor": 5
}
