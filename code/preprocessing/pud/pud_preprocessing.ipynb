{
 "cells": [
  {
   "cell_type": "markdown",
   "id": "b3a1f357",
   "metadata": {},
   "source": [
    "# Zipf's law of compression\n",
    "\n"
   ]
  },
  {
   "cell_type": "code",
   "execution_count": 1,
   "id": "88b5437c",
   "metadata": {
    "scrolled": true
   },
   "outputs": [],
   "source": [
    "from io import open\n",
    "import numpy as np\n",
    "import pandas as pd\n",
    "import re\n",
    "import os \n",
    "from conllu import parse_incr\n",
    "from collections import Counter\n",
    "from string import digits, punctuation\n",
    "from csv import writer\n",
    "import pycountry"
   ]
  },
  {
   "cell_type": "code",
   "execution_count": 7,
   "id": "e86c6861",
   "metadata": {},
   "outputs": [],
   "source": [
    "# Get PUD languages\n",
    "my_list = os.listdir('ud-treebanks-v2.9')\n",
    "pud_langs = [folder[3:-4] for folder in my_list if re.search(r'\\bPUD\\b', folder)]      # get PUD languages\n",
    "pud_langs.sort()                                                                       # sort alphabetically\n",
    "\n",
    "# non latin languages\n",
    "non_latin_langs = ['Arabic','Chinese','Hindi','Japanese','Korean','Russian','Thai']\n",
    "\n",
    "# iso codes\n",
    "langs_dictionary = {}\n",
    "\n",
    "for language in pud_langs:\n",
    "    language_item = pycountry.languages.get(name=language)\n",
    "    langs_dictionary[language] = language_item.alpha_3\n",
    "\n",
    "langs_df = pd.DataFrame.from_dict(langs_dictionary, orient= \"index\")"
   ]
  },
  {
   "cell_type": "code",
   "execution_count": 8,
   "id": "b6ea7b03",
   "metadata": {},
   "outputs": [],
   "source": [
    "# define filtering function\n",
    "regex = f'[{digits}{punctuation}“。、・”«»—，）（·》《；：？％』『？」「–„–£…°€’‘¿№＝〜℃ⅲ＆１２２１６／α•／]+'\n",
    "non_lat_regex = f'[a-zA-Z]+'\n",
    "\n",
    "def is_valid(language,value):\n",
    "    # does it contain latin letters while being non latin language?\n",
    "    if (language in non_latin_langs and re.findall(non_lat_regex, value)):\n",
    "        return False\n",
    "    # contains digits or punctuation?\n",
    "    elif bool(re.findall(regex, value)):\n",
    "        return False\n",
    "    elif value == \"\":\n",
    "        return False\n",
    "    \n",
    "    return True"
   ]
  },
  {
   "cell_type": "code",
   "execution_count": 15,
   "id": "4c75f264",
   "metadata": {},
   "outputs": [],
   "source": [
    "\n",
    "# MAIN FUNCTION\n",
    "def freq_length_df(language):\n",
    "    folder = \"UD_\"+language+\"-PUD\"\n",
    "    print(folder)\n",
    "    [right_file] = [f for f in os.listdir(f'ud-treebanks-v2.9/{folder}') if f.endswith('.conllu')]\n",
    "    data_file = open(f'ud-treebanks-v2.9/{folder}/{right_file}', \"r\", encoding=\"utf-8\")\n",
    "\n",
    "    word_counts_raw = Counter()  \n",
    "\n",
    "    for sentence in parse_incr(data_file):\n",
    "        tokens = [token[\"form\"].lower() for token in sentence if token[\"upos\"] != 'PUNCT']\n",
    "        word_counts_raw.update(tokens)\n",
    "\n",
    "    word_counts =  {} # will hold word count and length \n",
    "\n",
    "    for word, count in word_counts_raw.items():\n",
    "        if is_valid(language, word): \n",
    "            word = word.replace(' ', '')        # replace all white spaces\n",
    "            # annotate frequency and length\n",
    "            word_counts[word] = {\n",
    "                'word': word,\n",
    "                'frequency': count,\n",
    "                'length': len(word)\n",
    "            }\n",
    "\n",
    "\n",
    "    # save frequency and length \n",
    "    df = pd.DataFrame.from_dict(word_counts, orient='index')\n",
    "    print(df.head())\n",
    "    df = df.sort_values(by=['frequency'],ascending=False)\n",
    "    df.to_csv(f'../data/pud/{langs_dictionary[language]}_pud.csv')\n",
    "    return df"
   ]
  },
  {
   "cell_type": "code",
   "execution_count": null,
   "id": "6bc672ff",
   "metadata": {},
   "outputs": [],
   "source": [
    "# BUILD DATAFRAMES\n",
    "[freq_length_df(lang) for lang in pud_langs]"
   ]
  }
 ],
 "metadata": {
  "interpreter": {
   "hash": "90a0f26ab5e361e9bf8ebc89f017b8acb6dc036ef7070e8556f504ff8ce2a2a1"
  },
  "kernelspec": {
   "display_name": "Python 3.8.8 ('base')",
   "language": "python",
   "name": "python3"
  },
  "language_info": {
   "codemirror_mode": {
    "name": "ipython",
    "version": 3
   },
   "file_extension": ".py",
   "mimetype": "text/x-python",
   "name": "python",
   "nbconvert_exporter": "python",
   "pygments_lexer": "ipython3",
   "version": "3.8.8"
  }
 },
 "nbformat": 4,
 "nbformat_minor": 5
}
