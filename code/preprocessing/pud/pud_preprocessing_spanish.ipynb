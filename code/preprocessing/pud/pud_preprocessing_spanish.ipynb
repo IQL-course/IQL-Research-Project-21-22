{
 "cells": [
  {
   "cell_type": "code",
   "execution_count": 14,
   "id": "88b5437c",
   "metadata": {
    "scrolled": true
   },
   "outputs": [],
   "source": [
    "from io import open\n",
    "import numpy as np\n",
    "import pandas as pd\n",
    "import re\n",
    "import os \n",
    "from conllu import parse_incr\n",
    "from collections import Counter\n",
    "from string import digits, punctuation\n",
    "from csv import writer\n",
    "import pycountry"
   ]
  },
  {
   "cell_type": "markdown",
   "id": "38705b51",
   "metadata": {},
   "source": [
    "The following code assumes that the UD treebanks are under the same directory, in a folder called 'ud-treebanks-v2.9'. \n",
    "The treebanks can be downloaded at https://universaldependencies.org/#download.\n",
    "Here version 2.9 is used (it can be downloaded from https://lindat.mff.cuni.cz/repository/xmlui/handle/11234/1-4611#show-files), but a different one can be used by specifying it in the 'ud_version' variable."
   ]
  },
  {
   "cell_type": "code",
   "execution_count": 30,
   "id": "e86c6861",
   "metadata": {},
   "outputs": [],
   "source": [
    "# Get PUD languages\n",
    "ud_version = 9\n",
    "\n",
    "my_list = os.listdir( f'ud-treebanks-v2.{ud_version}')\n",
    "# iso codes\n",
    "langs_dictionary = {}\n",
    "pud_langs=['Spanish']\n",
    "\n",
    "language_item = pycountry.languages.get(name='Spanish')\n",
    "langs_dictionary['Spanish'] = language_item.alpha_3\n",
    "\n",
    "\n",
    "langs_df = pd.DataFrame.from_dict(langs_dictionary, orient= \"index\")"
   ]
  },
  {
   "cell_type": "code",
   "execution_count": 31,
   "id": "b6ea7b03",
   "metadata": {},
   "outputs": [],
   "source": [
    "# define filtering function\n",
    "regex = f'[{digits}{punctuation}“。、・”«»—，）（·》《；：？％』『？」「–„–£…°€’‘¿№＝〜℃ⅲ＆１２２１６／α•／]+'\n",
    "\n",
    "def is_valid(language,value):\n",
    "    # contains digits or punctuation?\n",
    "    if bool(re.findall(regex, value)):\n",
    "        return False\n",
    "    elif value == \"\":\n",
    "        return False\n",
    "    \n",
    "    return True"
   ]
  },
  {
   "cell_type": "code",
   "execution_count": 62,
   "id": "4c75f264",
   "metadata": {},
   "outputs": [],
   "source": [
    "\n",
    "# MAIN FUNCTION\n",
    "def freq_length_df(language):\n",
    "    folder = \"UD_\"+language+\"-PUD\"\n",
    "    print(folder)\n",
    "    [right_file] = [f for f in os.listdir(f'ud-treebanks-v2.9/{folder}') if f.endswith('.conllu')]\n",
    "    data_file = open(f'ud-treebanks-v2.9/{folder}/{right_file}', \"r\", encoding=\"utf-8\")\n",
    "\n",
    "    word_counts_raw = Counter()  \n",
    "\n",
    "    for sentence in parse_incr(data_file):\n",
    "        tokens = [token[\"form\"].lower() for token in sentence if token[\"upos\"] != 'PUNCT']\n",
    "        tokens_spanish=[]\n",
    "        for token in tokens:\n",
    "            if token!='del':\n",
    "                tokens_spanish.append(token)\n",
    "        word_counts_raw.update(tokens_spanish)\n",
    "\n",
    "    word_counts =  {} # will hold word count and length \n",
    "\n",
    "    for word, count in word_counts_raw.items():\n",
    "        if is_valid(language, word): \n",
    "            word = word.replace(' ', '')        # replace all white spaces\n",
    "            # annotate frequency and length\n",
    "            word_counts[word] = {\n",
    "                'word': word,\n",
    "                'frequency': count,\n",
    "                'n_characters': len(word)\n",
    "            }\n",
    "\n",
    "\n",
    "    # save frequency and length \n",
    "    df = pd.DataFrame.from_dict(word_counts, orient='index')\n",
    "    print(df.head())\n",
    "    df = df.sort_values(by=['frequency'],ascending=False)\n",
    "    df.to_csv(f'./../../../data/non_filtered/corpora/pud/{langs_dictionary[language]}_pud.csv',index=False)\n",
    "    return df\n"
   ]
  },
  {
   "cell_type": "code",
   "execution_count": 63,
   "id": "6bc672ff",
   "metadata": {},
   "outputs": [
    {
     "name": "stdout",
     "output_type": "stream",
     "text": [
      "UD_Spanish-PUD\n",
      "                    word  frequency  n_characters\n",
      "aunque            aunque          8             6\n",
      "no                    no        124             2\n",
      "haya                haya          2             4\n",
      "precedentes  precedentes          1            11\n",
      "para                para        144             4\n"
     ]
    },
    {
     "data": {
      "text/plain": [
       "[                  word  frequency  n_characters\n",
       " de                  de       1730             2\n",
       " el                  el       1102             2\n",
       " la                  la        795             2\n",
       " en                  en        691             2\n",
       " a                    a        551             1\n",
       " ...                ...        ...           ...\n",
       " krasnoyark  krasnoyark          1            10\n",
       " maldivas      maldivas          1             8\n",
       " índico          índico          1             6\n",
       " granito        granito          1             7\n",
       " declaraba    declaraba          1             9\n",
       " \n",
       " [5764 rows x 3 columns]]"
      ]
     },
     "execution_count": 63,
     "metadata": {},
     "output_type": "execute_result"
    }
   ],
   "source": [
    "# BUILD DATAFRAMES\n",
    "[freq_length_df(lang) for lang in pud_langs]"
   ]
  },
  {
   "cell_type": "code",
   "execution_count": null,
   "id": "0585d59b",
   "metadata": {},
   "outputs": [],
   "source": []
  }
 ],
 "metadata": {
  "interpreter": {
   "hash": "90a0f26ab5e361e9bf8ebc89f017b8acb6dc036ef7070e8556f504ff8ce2a2a1"
  },
  "kernelspec": {
   "display_name": "Python 3 (ipykernel)",
   "language": "python",
   "name": "python3"
  },
  "language_info": {
   "codemirror_mode": {
    "name": "ipython",
    "version": 3
   },
   "file_extension": ".py",
   "mimetype": "text/x-python",
   "name": "python",
   "nbconvert_exporter": "python",
   "pygments_lexer": "ipython3",
   "version": "3.10.0"
  }
 },
 "nbformat": 4,
 "nbformat_minor": 5
}
