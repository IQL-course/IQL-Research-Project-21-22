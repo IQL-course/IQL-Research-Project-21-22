{
 "cells": [
  {
   "cell_type": "code",
   "execution_count": 8,
   "id": "5d76238a",
   "metadata": {},
   "outputs": [
    {
     "name": "stdout",
     "output_type": "stream",
     "text": [
      "./../../../data/non_filtered/corpora/pud\\jpn_pud.csv\n",
      "./../../../data/non_filtered/corpora/pud\\jpn_pud_romaji.csv\n",
      "./../../../data/non_filtered/corpora/pud\\jpn_pud_strokes.csv\n",
      "./../../../data/non_filtered/corpora/pud\\kor_pud.csv\n",
      "./../../../data/non_filtered/corpora/pud\\zho_pud.csv\n",
      "./../../../data/non_filtered/corpora/pud\\zho_pud_pinyin.csv\n",
      "./../../../data/non_filtered/corpora/pud\\zho_pud_strokes.csv\n"
     ]
    }
   ],
   "source": [
    "import glob\n",
    "from iso639 import Lang\n",
    "import csv\n",
    "import shutil\n",
    "\n",
    "txtFilters=glob.glob(\"./../../../data/filtered/alphabets/pud/*.csv\")\n",
    "csvsToAnalyze=glob.glob(\"./../../../data/non_filtered/corpora/pud/*.csv\")\n",
    "\n",
    "filterLang={}\n",
    "for txt in txtFilters:\n",
    "    with open(txt, newline='',encoding=\"utf-8\") as txtOpened:\n",
    "        pt3Name=txt.split(\"-\")[0].split(\"\\\\\")[1]\n",
    "        lines = txtOpened.readlines()\n",
    "        newFilter=set()\n",
    "        for line in lines[1:]:\n",
    "            elems=line.split(\",\")\n",
    "            newFilter.add(elems[0].strip(\"\\\"\"))\n",
    "        filterLang[pt3Name]=newFilter\n",
    "        \n",
    "for csvfile in csvsToAnalyze:\n",
    "    if \"jpn\" not in csvfile and \"zho\" not in csvfile and \"kor\" not in csvfile: \n",
    "        names=csvfile.split(\"\\\\\")[1].split(\"_\")[0]\n",
    "        isoLan=names\n",
    "        isoLanIdentifier=names\n",
    "        with open(\"./../../../data/filtered/corpora/pud/\"+isoLanIdentifier+\"_pud.csv\", 'w', encoding='UTF8', newline='') as f:\n",
    "            writer = csv.writer(f)\n",
    "            writer.writerow([\"\",\"word\",\"frequency\",\"n_characters\"])\n",
    "            with open(csvfile, newline='',encoding=\"utf-8\") as csvfileOpened:\n",
    "                reader = csv.reader(csvfileOpened, delimiter=',', quotechar='\"')\n",
    "                next(reader)\n",
    "                alphabetSet=filterLang[isoLanIdentifier]\n",
    "                for row in reader:\n",
    "                    valid=True\n",
    "                    for letter in row[1]:\n",
    "                        if letter not in alphabetSet:\n",
    "                            valid=False\n",
    "                            break\n",
    "                    if valid:\n",
    "                        writer.writerow(row)\n",
    "    else:\n",
    "        names=csvfile.split(\"\\\\\")[1].split(\"_\")[0]\n",
    "        isoLan=names\n",
    "        isoLanIdentifier=names\n",
    "        print(csvfile)\n",
    "        toAdd=\"\"\n",
    "        if \"strokes\" in csvfile:\n",
    "            toAdd+=\"_strokes\"\n",
    "        if \"pinyin\" in csvfile:\n",
    "            toAdd+=\"_pinyin\"\n",
    "        if \"romaji\" in csvfile:\n",
    "            toAdd+= \"_romaji\"\n",
    "        f_src = open(csvfile, 'rb')\n",
    "        f_dest = open(\"./../../../data/filtered/corpora/pud/\"+isoLanIdentifier+\"_pud\"+toAdd+\".csv\", 'wb')\n",
    "        shutil.copyfileobj(f_src,f_dest) \n",
    "\n"
   ]
  },
  {
   "cell_type": "code",
   "execution_count": null,
   "id": "d0e3dd44",
   "metadata": {},
   "outputs": [],
   "source": []
  }
 ],
 "metadata": {
  "kernelspec": {
   "display_name": "Python 3 (ipykernel)",
   "language": "python",
   "name": "python3"
  },
  "language_info": {
   "codemirror_mode": {
    "name": "ipython",
    "version": 3
   },
   "file_extension": ".py",
   "mimetype": "text/x-python",
   "name": "python",
   "nbconvert_exporter": "python",
   "pygments_lexer": "ipython3",
   "version": "3.10.0"
  },
  "vscode": {
   "interpreter": {
    "hash": "aee8b7b246df8f9039afb4144a1f6fd8d2ca17a180786b69acc140d282b71a49"
   }
  }
 },
 "nbformat": 4,
 "nbformat_minor": 5
}
