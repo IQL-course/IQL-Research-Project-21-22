{
 "cells": [
  {
   "cell_type": "code",
   "execution_count": 1,
   "id": "5d76238a",
   "metadata": {},
   "outputs": [
    {
     "ename": "ModuleNotFoundError",
     "evalue": "No module named 'iso639'",
     "output_type": "error",
     "traceback": [
      "\u001b[0;31m---------------------------------------------------------------------------\u001b[0m",
      "\u001b[0;31mModuleNotFoundError\u001b[0m                       Traceback (most recent call last)",
      "\u001b[0;32m/var/folders/9v/7h171fh95kd2m9fy1dn3ycq40000gn/T/ipykernel_65587/2996223695.py\u001b[0m in \u001b[0;36m<module>\u001b[0;34m\u001b[0m\n\u001b[1;32m      1\u001b[0m \u001b[0;32mimport\u001b[0m \u001b[0mglob\u001b[0m\u001b[0;34m\u001b[0m\u001b[0;34m\u001b[0m\u001b[0m\n\u001b[0;32m----> 2\u001b[0;31m \u001b[0;32mfrom\u001b[0m \u001b[0miso639\u001b[0m \u001b[0;32mimport\u001b[0m \u001b[0mLang\u001b[0m\u001b[0;34m\u001b[0m\u001b[0;34m\u001b[0m\u001b[0m\n\u001b[0m\u001b[1;32m      3\u001b[0m \u001b[0;32mimport\u001b[0m \u001b[0mcsv\u001b[0m\u001b[0;34m\u001b[0m\u001b[0;34m\u001b[0m\u001b[0m\n\u001b[1;32m      4\u001b[0m \u001b[0;34m\u001b[0m\u001b[0m\n\u001b[1;32m      5\u001b[0m \u001b[0mtxtFilters\u001b[0m\u001b[0;34m=\u001b[0m\u001b[0mglob\u001b[0m\u001b[0;34m.\u001b[0m\u001b[0mglob\u001b[0m\u001b[0;34m(\u001b[0m\u001b[0;34m\"./../../../data/filtered/alphabets/pud/*.txt\"\u001b[0m\u001b[0;34m)\u001b[0m\u001b[0;34m\u001b[0m\u001b[0;34m\u001b[0m\u001b[0m\n",
      "\u001b[0;31mModuleNotFoundError\u001b[0m: No module named 'iso639'"
     ]
    }
   ],
   "source": [
    "import glob\n",
    "from iso639 import Lang\n",
    "import csv\n",
    "\n",
    "txtFilters=glob.glob(\"./../../../data/filtered/alphabets/pud/*.txt\")\n",
    "csvsToAnalyze=glob.glob(\"./../../../data/non_filtered/corpora/pud/*.csv\")\n",
    "\n",
    "filterLang={}\n",
    "for txt in txtFilters:\n",
    "    with open(txt, newline='',encoding=\"utf-8\") as txtOpened:\n",
    "        pt3Name=txt.split(\"_\")[1].split(\".\")[0]\n",
    "        lines = txtOpened.readlines()\n",
    "        newFilter=set()\n",
    "        for line in lines:\n",
    "            newFilter.add(line[0])\n",
    "        filterLang[pt3Name]=newFilter\n",
    "\n",
    "for csvfile in csvsToAnalyze:\n",
    "    if  \"jpn\" not in csvfile or \"zho\" not in csvfile: \n",
    "        names=csvfile.split(\"\\\\\")[1].split(\"_\")[0]\n",
    "        isoLan=names\n",
    "        isoLanIdentifier=names\n",
    "        with open(\"./../../../data/filtered/corpora/pud/\"+isoLanIdentifier+\"_pud.csv\", 'w', encoding='UTF8', newline='') as f:\n",
    "            writer = csv.writer(f)\n",
    "            writer.writerow([\"\",\"word\",\"frequency\",\"n_characters\"])\n",
    "            with open(csvfile, newline='',encoding=\"utf-8\") as csvfileOpened:\n",
    "                reader = csv.reader(csvfileOpened, delimiter=',', quotechar='\"')\n",
    "                next(reader)\n",
    "                alphabetSet=filterLang[isoLanIdentifier]\n",
    "                for row in reader:\n",
    "                    valid=True\n",
    "                    for letter in row[1]:\n",
    "                        if letter not in alphabetSet:\n",
    "                            valid=False\n",
    "                            break\n",
    "                    if valid:\n",
    "                        writer.writerow(row)\n"
   ]
  },
  {
   "cell_type": "code",
   "execution_count": null,
   "id": "d0e3dd44",
   "metadata": {},
   "outputs": [],
   "source": []
  }
 ],
 "metadata": {
  "kernelspec": {
   "display_name": "Python 3.9.9 64-bit",
   "language": "python",
   "name": "python3"
  },
  "language_info": {
   "codemirror_mode": {
    "name": "ipython",
    "version": 3
   },
   "file_extension": ".py",
   "mimetype": "text/x-python",
   "name": "python",
   "nbconvert_exporter": "python",
   "pygments_lexer": "ipython3",
   "version": "3.9.9"
  },
  "vscode": {
   "interpreter": {
    "hash": "aee8b7b246df8f9039afb4144a1f6fd8d2ca17a180786b69acc140d282b71a49"
   }
  }
 },
 "nbformat": 4,
 "nbformat_minor": 5
}
