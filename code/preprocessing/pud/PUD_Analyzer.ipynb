{
 "cells": [
  {
   "cell_type": "code",
   "execution_count": 9,
   "id": "7a218fdd",
   "metadata": {},
   "outputs": [
    {
     "name": "stdout",
     "output_type": "stream",
     "text": [
      "ara\n",
      "ces\n",
      "deu\n",
      "eng\n",
      "fin\n",
      "fra\n",
      "hin\n",
      "ind\n",
      "isl\n",
      "ita\n",
      "jpn\n",
      "jpn\n",
      "jpn\n",
      "kor\n",
      "pol\n",
      "por\n",
      "rus\n",
      "spa\n",
      "swe\n",
      "tha\n",
      "tur\n",
      "zho\n",
      "zho\n",
      "zho\n"
     ]
    }
   ],
   "source": [
    "import csv\n",
    "import glob\n",
    "from iso639 import Lang\n",
    "\n",
    "csvsToAnalyze=glob.glob(\"./../data/pud/*.csv\")\n",
    "\n",
    "with open(\"../data/descriptive_tables/pud.csv\", 'w', encoding='UTF8', newline='') as f:\n",
    "    writer = csv.writer(f)\n",
    "    writer.writerow([\"language\", \"iso_code\", \"dialect\", \"#types\", \"#tokens\"])\n",
    "    for csvfile in csvsToAnalyze:\n",
    "        with open(csvfile, newline='',encoding=\"utf-8\") as csvfileOpened:\n",
    "            reader = csv.reader(csvfileOpened, delimiter=',', quotechar='\"')\n",
    "            next(reader)\n",
    "            names=csvfile.split(\"\\\\\")[1].split(\"-\")\n",
    "            isoLan=names[0].split(\"_\")[0]\n",
    "            isoLanMod=Lang(names[0].split(\"_\")[0]).name\n",
    "            if \"strokes\" in csvfile:\n",
    "                isoLanMod=isoLanMod+\"-strokes\"\n",
    "            elif \"pinyin\" in csvfile:\n",
    "                    isoLanMod=isoLanMod+\"-pinyin\"\n",
    "            elif \"romaji\" in csvfile:\n",
    "                    isoLanMod=isoLanMod+\"-romaji\"\n",
    "            dialect=\"\"\n",
    "            totalReps=0\n",
    "            diffTokens=0\n",
    "            for row in reader:\n",
    "                totalReps+=int(row[2])\n",
    "                diffTokens+=1\n",
    "            writer.writerow([isoLanMod,isoLan,dialect,diffTokens,totalReps])\n"
   ]
  },
  {
   "cell_type": "code",
   "execution_count": null,
   "id": "e735ff18",
   "metadata": {},
   "outputs": [],
   "source": []
  }
 ],
 "metadata": {
  "kernelspec": {
   "display_name": "Python 3 (ipykernel)",
   "language": "python",
   "name": "python3"
  },
  "language_info": {
   "codemirror_mode": {
    "name": "ipython",
    "version": 3
   },
   "file_extension": ".py",
   "mimetype": "text/x-python",
   "name": "python",
   "nbconvert_exporter": "python",
   "pygments_lexer": "ipython3",
   "version": "3.10.0"
  }
 },
 "nbformat": 4,
 "nbformat_minor": 5
}
