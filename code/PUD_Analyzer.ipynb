{
 "cells": [
  {
   "cell_type": "code",
   "execution_count": 4,
   "id": "7a218fdd",
   "metadata": {},
   "outputs": [
    {
     "name": "stdout",
     "output_type": "stream",
     "text": [
      "./../pud_data\\ara_pud.csv\n",
      "./../pud_data\\ces_pud.csv\n",
      "./../pud_data\\deu_pud.csv\n",
      "./../pud_data\\eng_pud.csv\n",
      "./../pud_data\\fin_pud.csv\n",
      "./../pud_data\\fra_pud.csv\n",
      "./../pud_data\\hin_pud.csv\n",
      "./../pud_data\\ind_pud.csv\n",
      "./../pud_data\\isl_pud.csv\n",
      "./../pud_data\\ita_pud.csv\n",
      "./../pud_data\\jpn_pud_strokes.csv\n",
      "./../pud_data\\kor_pud.csv\n",
      "./../pud_data\\pol_pud.csv\n",
      "./../pud_data\\por_pud.csv\n",
      "./../pud_data\\rus_pud.csv\n",
      "./../pud_data\\spa_pud.csv\n",
      "./../pud_data\\swe_pud.csv\n",
      "./../pud_data\\tha_pud.csv\n",
      "./../pud_data\\tur_pud.csv\n",
      "./../pud_data\\zho_pud_strokes.csv\n"
     ]
    }
   ],
   "source": [
    "import csv\n",
    "import glob\n",
    "from iso639 import Lang\n",
    "\n",
    "csvsToAnalyze=glob.glob(\"./../pud_data/*.csv\")\n",
    "\n",
    "with open(\"../explanatory_tables/pud.csv\", 'w', encoding='UTF8', newline='') as f:\n",
    "    writer = csv.writer(f)\n",
    "    writer.writerow([\"language\", \"iso_code\", \"dialect\", \"#types\", \"#tokens\"])\n",
    "    for csvfile in csvsToAnalyze:\n",
    "        if (\"jpn_pud\" in csvfile and \"strokes\" not in csvfile) or (\"zho_pud\" in csvfile and \"strokes\" not in csvfile): \n",
    "            continue\n",
    "        with open(csvfile, newline='',encoding=\"utf-8\") as csvfileOpened:\n",
    "            reader = csv.reader(csvfileOpened, delimiter=',', quotechar='\"')\n",
    "            next(reader)\n",
    "            names=csvfile.split(\"\\\\\")[1].split(\"-\")\n",
    "            isoLan=names[0].split(\"_\")[0]\n",
    "            dialect=\"\"\n",
    "            totalReps=0\n",
    "            diffTokens=0\n",
    "            for row in reader:\n",
    "                totalReps+=int(row[2])\n",
    "                diffTokens+=1\n",
    "            writer.writerow([Lang(isoLan).name,isoLan,dialect,diffTokens,totalReps])\n"
   ]
  },
  {
   "cell_type": "code",
   "execution_count": null,
   "id": "e735ff18",
   "metadata": {},
   "outputs": [],
   "source": []
  }
 ],
 "metadata": {
  "kernelspec": {
   "display_name": "Python 3 (ipykernel)",
   "language": "python",
   "name": "python3"
  },
  "language_info": {
   "codemirror_mode": {
    "name": "ipython",
    "version": 3
   },
   "file_extension": ".py",
   "mimetype": "text/x-python",
   "name": "python",
   "nbconvert_exporter": "python",
   "pygments_lexer": "ipython3",
   "version": "3.10.0"
  }
 },
 "nbformat": 4,
 "nbformat_minor": 5
}
