{
 "cells": [
  {
   "cell_type": "code",
   "execution_count": 4,
   "id": "82fc74d2",
   "metadata": {},
   "outputs": [
    {
     "name": "stdout",
     "output_type": "stream",
     "text": [
      "./common-voice-forced-alignments\\ab-word.csv\n",
      "./common-voice-forced-alignments\\ar-word.csv\n",
      "./common-voice-forced-alignments\\as-word.csv\n",
      "./common-voice-forced-alignments\\br-word.csv\n",
      "./common-voice-forced-alignments\\ca-word.csv\n",
      "./common-voice-forced-alignments\\cnh-word.csv\n",
      "./common-voice-forced-alignments\\cs-word.csv\n",
      "./common-voice-forced-alignments\\cv-word.csv\n",
      "./common-voice-forced-alignments\\cy-word.csv\n",
      "./common-voice-forced-alignments\\de-word.csv\n",
      "./common-voice-forced-alignments\\dv-word.csv\n",
      "./common-voice-forced-alignments\\el-word.csv\n",
      "./common-voice-forced-alignments\\en-word.csv\n",
      "./common-voice-forced-alignments\\eo-word.csv\n",
      "./common-voice-forced-alignments\\es-word.csv\n",
      "./common-voice-forced-alignments\\et-word.csv\n",
      "./common-voice-forced-alignments\\eu-word.csv\n",
      "./common-voice-forced-alignments\\fa-word.csv\n",
      "./common-voice-forced-alignments\\fr-word.csv\n",
      "./common-voice-forced-alignments\\fy-NL-word.csv\n",
      "./common-voice-forced-alignments\\ga-IE-word.csv\n",
      "./common-voice-forced-alignments\\ia-word.csv\n",
      "./common-voice-forced-alignments\\id-word.csv\n",
      "./common-voice-forced-alignments\\it-word.csv\n",
      "./common-voice-forced-alignments\\ja-word.csv\n",
      "./common-voice-forced-alignments\\ka-word.csv\n",
      "./common-voice-forced-alignments\\ky-word.csv\n",
      "./common-voice-forced-alignments\\lv-word.csv\n",
      "./common-voice-forced-alignments\\mn-word.csv\n",
      "./common-voice-forced-alignments\\mt-word.csv\n",
      "./common-voice-forced-alignments\\nl-word.csv\n",
      "./common-voice-forced-alignments\\or-word.csv\n",
      "./common-voice-forced-alignments\\pa-IN-word.csv\n",
      "./common-voice-forced-alignments\\pl-word.csv\n",
      "./common-voice-forced-alignments\\pt-word.csv\n",
      "./common-voice-forced-alignments\\rm-sursilv-word.csv\n",
      "./common-voice-forced-alignments\\rm-vallader-word.csv\n",
      "./common-voice-forced-alignments\\ro-word.csv\n",
      "./common-voice-forced-alignments\\ru-word.csv\n",
      "./common-voice-forced-alignments\\rw-word.csv\n",
      "./common-voice-forced-alignments\\sah-word.csv\n",
      "./common-voice-forced-alignments\\sl-word.csv\n",
      "./common-voice-forced-alignments\\sv-SE-word.csv\n",
      "./common-voice-forced-alignments\\ta-word.csv\n",
      "./common-voice-forced-alignments\\tr-word.csv\n",
      "./common-voice-forced-alignments\\tt-word.csv\n",
      "./common-voice-forced-alignments\\uk-word.csv\n",
      "./common-voice-forced-alignments\\vi-word.csv\n",
      "./common-voice-forced-alignments\\zh-CN-word.csv\n",
      "./common-voice-forced-alignments\\zh-HK-word.csv\n",
      "./common-voice-forced-alignments\\zh-TW-word.csv\n"
     ]
    }
   ],
   "source": [
    "import csv\n",
    "import glob\n",
    "from iso639 import Lang\n",
    "\n",
    "csvsToAnalyze=glob.glob(\"./common-voice-forced-alignments/*.csv\")\n",
    "\n",
    "with open(\"../explanatory_tables/common_voice.csv\", 'w', encoding='UTF8', newline='') as f:\n",
    "    writer = csv.writer(f)\n",
    "    writer.writerow([\"language\", \"iso_code\", \"dialect\", \"#types\", \"#tokens\"])\n",
    "    for csvfile in csvsToAnalyze:\n",
    "        if \"phone\" not in csvfile: \n",
    "            with open(csvfile, newline='',encoding=\"utf-8\") as csvfileOpened:\n",
    "                reader = csv.reader(csvfileOpened, delimiter=',', quotechar='\"')\n",
    "                next(reader)\n",
    "                names=csvfile.split(\"\\\\\")[1].split(\"-\")\n",
    "                isoLan=names[0]\n",
    "                dialect=\"\"\n",
    "                if \"word\" not in names[1]:\n",
    "                    dialect=names[1]\n",
    "                totalReps=0\n",
    "                diffTokens=0\n",
    "                for row in reader:\n",
    "                    totalReps+=int(row[0])\n",
    "                    diffTokens+=1\n",
    "                writer.writerow([Lang(isoLan).name,isoLan,dialect,diffTokens,totalReps])\n",
    "                "
   ]
  },
  {
   "cell_type": "code",
   "execution_count": null,
   "id": "90363629",
   "metadata": {},
   "outputs": [],
   "source": []
  }
 ],
 "metadata": {
  "kernelspec": {
   "display_name": "Python 3 (ipykernel)",
   "language": "python",
   "name": "python3"
  },
  "language_info": {
   "codemirror_mode": {
    "name": "ipython",
    "version": 3
   },
   "file_extension": ".py",
   "mimetype": "text/x-python",
   "name": "python",
   "nbconvert_exporter": "python",
   "pygments_lexer": "ipython3",
   "version": "3.10.0"
  }
 },
 "nbformat": 4,
 "nbformat_minor": 5
}
