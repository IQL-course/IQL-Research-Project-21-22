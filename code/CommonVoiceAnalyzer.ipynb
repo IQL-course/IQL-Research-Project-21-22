{
 "cells": [
  {
   "cell_type": "code",
   "execution_count": 5,
   "id": "6ccad718",
   "metadata": {},
   "outputs": [],
   "source": [
    "import csv\n",
    "import glob\n",
    "from iso639 import Lang\n",
    "\n",
    "csvsToAnalyze=glob.glob(\"./common-voice-forced-alignments/*.csv\")\n",
    "\n",
    "with open(\"../explanatory_tables/common_voice.csv\", 'w', encoding='UTF8', newline='') as f:\n",
    "    writer = csv.writer(f)\n",
    "    writer.writerow([\"language\", \"iso_code\", \"dialect\", \"#types\", \"#tokens\"])\n",
    "    for csvfile in csvsToAnalyze:\n",
    "        if \"phone\" not in csvfile: \n",
    "            with open(csvfile, newline='',encoding=\"utf-8\") as csvfileOpened:\n",
    "                reader = csv.reader(csvfileOpened, delimiter=',', quotechar='\"')\n",
    "                next(reader)\n",
    "                names=csvfile.split(\"\\\\\")[1].split(\"-\")\n",
    "                isoLan=names[0]\n",
    "                dialect=\"\"\n",
    "                if \"word\" not in names[1]:\n",
    "                    dialect=names[1]\n",
    "                totalReps=0\n",
    "                diffTokens=0\n",
    "                for row in reader:\n",
    "                    totalReps+=int(row[0])\n",
    "                    diffTokens+=1\n",
    "                writer.writerow([Lang(isoLan).name,isoLan,dialect,diffTokens,totalReps])\n",
    "                "
   ]
  },
  {
   "cell_type": "code",
   "execution_count": null,
   "id": "f44fef39",
   "metadata": {},
   "outputs": [],
   "source": []
  }
 ],
 "metadata": {
  "kernelspec": {
   "display_name": "Python 3 (ipykernel)",
   "language": "python",
   "name": "python3"
  },
  "language_info": {
   "codemirror_mode": {
    "name": "ipython",
    "version": 3
   },
   "file_extension": ".py",
   "mimetype": "text/x-python",
   "name": "python",
   "nbconvert_exporter": "python",
   "pygments_lexer": "ipython3",
   "version": "3.10.0"
  }
 },
 "nbformat": 4,
 "nbformat_minor": 5
}
