{
 "cells": [
  {
   "cell_type": "code",
   "execution_count": 1,
   "id": "3dcaa951",
   "metadata": {},
   "outputs": [
    {
     "name": "stdout",
     "output_type": "stream",
     "text": [
      "./UN\\DCEP-strip-BG-pub\n",
      "./UN\\DCEP-strip-CS-pub\n",
      "./UN\\DCEP-strip-DA-pub\n",
      "./UN\\DCEP-strip-DE-pub\n",
      "./UN\\DCEP-strip-EL-pub\n",
      "./UN\\DCEP-strip-EN-pub\n",
      "./UN\\DCEP-strip-EN-pub-character.csv\n",
      "./UN\\DCEP-strip-ES-pub\n",
      "./UN\\DCEP-strip-ES-pub-character.csv\n",
      "./UN\\DCEP-strip-ET-pub\n",
      "./UN\\DCEP-strip-ET-pub-character.csv\n",
      "./UN\\DCEP-strip-FI-pub\n",
      "./UN\\DCEP-strip-FI-pub-character.csv\n",
      "./UN\\DCEP-strip-FR-pub\n",
      "./UN\\DCEP-strip-FR-pub-character.csv\n",
      "./UN\\DCEP-strip-GA-pub\n",
      "./UN\\DCEP-strip-GA-pub-character.csv\n",
      "./UN\\DCEP-strip-HU-pub\n",
      "./UN\\DCEP-strip-HU-pub-character.csv\n",
      "./UN\\DCEP-strip-IT-pub\n",
      "./UN\\DCEP-strip-IT-pub-character.csv\n",
      "./UN\\DCEP-strip-LT-pub\n",
      "./UN\\DCEP-strip-LV-pub\n",
      "./UN\\DCEP-strip-MT-pub\n",
      "./UN\\DCEP-strip-NL-pub\n",
      "./UN\\DCEP-strip-PL-pub\n",
      "./UN\\DCEP-strip-PT-pub\n",
      "./UN\\DCEP-strip-RO-pub\n",
      "./UN\\DCEP-strip-SK-pub\n",
      "./UN\\DCEP-strip-SL-pub\n",
      "./UN\\DCEP-strip-SV-pub\n",
      "./UN\\DCEP-strip-TR-pub\n"
     ]
    }
   ],
   "source": [
    "import spacy\n",
    "import glob\n",
    "from string import digits\n",
    "import csv\n",
    "\n",
    "def is_token_valid(token):\n",
    "    return not token.is_punct and\\\n",
    "           not token.is_space and\\\n",
    "           not token.is_digit and\\\n",
    "           not token.is_currency and\\\n",
    "           not token.is_space and\\\n",
    "           not token.like_num\n",
    "\n",
    "def transform_token(token):\n",
    "    token = token.lower_\n",
    "    return str(token)\n",
    "\n",
    "def addToDict(word,dictionary):\n",
    "    if word in dictionary:\n",
    "        dictionary[word]+=1\n",
    "    else:\n",
    "        dictionary[word]=1\n",
    "        \n",
    "        \n",
    "languageRootFolders = glob.glob('./UN/*')\n",
    "\n",
    "\n",
    "nlp = spacy.load(\"xx_sent_ud_sm\")\n",
    "tokenizer = nlp.tokenizer\n",
    "\n",
    "table = str.maketrans('', '', digits+\":()[]{}.,?!\")\n",
    "newstring = (table)\n",
    "header = [\"repetitions\", \"orthographic_form\",\"length\"]\n",
    "\n",
    "for language in languageRootFolders:\n",
    "    print(language)\n",
    "    files = glob.glob(language+\"/**/**/**/**/**/*.txt\", recursive=True)\n",
    "    tokenDict={}\n",
    "    files=set(files)\n",
    "    for file in files:\n",
    "        f = open(file, \"r\",encoding='UTF8')\n",
    "        contents=f.read()\n",
    "        contents=contents.translate(table)\n",
    "        tokens = tokenizer(contents)\n",
    "        for token in tokens:\n",
    "            if is_token_valid(token):\n",
    "                token=transform_token(token)\n",
    "                addToDict(token,tokenDict)\n",
    "        f.close()\n",
    "        \n",
    "    with open(language+\"-character.csv\", 'w', encoding='UTF8', newline='') as f:\n",
    "        writer = csv.writer(f)\n",
    "        writer.writerow(header)\n",
    "        for elem in tokenDict:\n",
    "            repetitions=tokenDict[elem]\n",
    "            length=len(elem)\n",
    "            orthographic_form=elem\n",
    "            writer.writerow([repetitions,orthographic_form,length])\n",
    "    f.close()\n",
    "\n"
   ]
  },
  {
   "cell_type": "code",
   "execution_count": 37,
   "id": "86e8ca1c",
   "metadata": {},
   "outputs": [
    {
     "name": "stdout",
     "output_type": "stream",
     "text": [
      "['./UN\\\\DCEP-strip-BG-pub', './UN\\\\DCEP-strip-CS-pub', './UN\\\\DCEP-strip-DA-pub', './UN\\\\DCEP-strip-DE-pub', './UN\\\\DCEP-strip-EL-pub', './UN\\\\DCEP-strip-EN-pub', './UN\\\\DCEP-strip-ES-pub', './UN\\\\DCEP-strip-ET-pub', './UN\\\\DCEP-strip-FI-pub', './UN\\\\DCEP-strip-FR-pub']\n"
     ]
    }
   ],
   "source": [
    "languageRootFolders = glob.glob('./UN/*')\n",
    "print(languageRootFolders)"
   ]
  },
  {
   "cell_type": "code",
   "execution_count": null,
   "id": "ef39552d",
   "metadata": {},
   "outputs": [],
   "source": []
  }
 ],
 "metadata": {
  "kernelspec": {
   "display_name": "Python 3 (ipykernel)",
   "language": "python",
   "name": "python3"
  },
  "language_info": {
   "codemirror_mode": {
    "name": "ipython",
    "version": 3
   },
   "file_extension": ".py",
   "mimetype": "text/x-python",
   "name": "python",
   "nbconvert_exporter": "python",
   "pygments_lexer": "ipython3",
   "version": "3.10.0"
  }
 },
 "nbformat": 4,
 "nbformat_minor": 5
}
